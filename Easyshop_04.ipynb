{
 "cells": [
  {
   "cell_type": "code",
   "execution_count": 9,
   "id": "2ac5d19c-1a4e-40e9-867a-162f20cd7c02",
   "metadata": {},
   "outputs": [
    {
     "name": "stdout",
     "output_type": "stream",
     "text": [
      "        City  ProductID      ProductName  sumrating  row_num\n",
      "0  Amsterdam         19     Hockey Stick       14.0        1\n",
      "1  Amsterdam         13     Swim Goggles       14.0        1\n",
      "2     Berlin         17        Surfboard        7.0        1\n",
      "3   Brussels          2  Fitness Tracker        7.0        1\n",
      "4     London          5      Soccer Ball        8.0        1\n"
     ]
    },
    {
     "name": "stderr",
     "output_type": "stream",
     "text": [
      "C:\\Users\\I02062\\AppData\\Local\\Temp\\ipykernel_368076\\3704789156.py:48: UserWarning: pandas only supports SQLAlchemy connectable (engine/connection) or database string URI or sqlite3 DBAPI2 connection. Other DBAPI2 objects are not tested. Please consider using SQLAlchemy.\n",
      "  df = pd.read_sql_query(sql, db_connection1)\n"
     ]
    }
   ],
   "source": [
    "#5.\tMarketing Effectiveness (SQL):\n",
    "\n",
    "# Find best-performing products per region.\n",
    "import pandas as pd\n",
    "import pymysql\n",
    "import mysql.connector as db\n",
    "from datetime import datetime\n",
    "from sqlalchemy import create_engine\n",
    "\n",
    "user  = 'root'\n",
    "passcode = \"password12*\"\n",
    "host = 'localhost'\n",
    "db_name = \"shopeasy\"\n",
    "\n",
    "db_connection1 = db.connect(\n",
    "                host  = host,\n",
    "                user = user,\n",
    "                password = passcode,\n",
    "                database = db_name\n",
    ")\n",
    "\n",
    "db_connection1\n",
    "curr = db_connection1.cursor()\n",
    "\n",
    "sql = \"\"\"\n",
    "              with rankeddata  as(SELECT \n",
    "\t\t\t\t\t r.City,\n",
    "                    c.ProductID,\n",
    "                    p.ProductName,\n",
    "                    sum(c.Rating) as 'sumrating',                 \n",
    "\t\t\t\t\tRANK() over (partition by r.City order by sum(c.Rating) desc) as row_num\n",
    "                    FROM shopeasy.customer_reviews AS c\n",
    "                    LEFT OUTER JOIN shopeasy.products AS p \n",
    "                     ON c.ProductID = p.ProductID\n",
    "                    LEFT OUTER JOIN shopeasy.customers AS o \n",
    "                        ON c.CustomerID = o.CustomerID\n",
    "                      \n",
    "                    LEFT OUTER JOIN shopeasy.geography AS r\n",
    "                        ON o.GeographyID = r.GeographyID group by r.city,c.ProductID,p.ProductName\n",
    "                        order by r.city)\n",
    "                        \n",
    "\tselect * from rankeddata WHERE row_num = 1\n",
    "\n",
    "       \"\"\"\n",
    "\n",
    "curr.execute(sql)\n",
    "results1 = curr.fetchall()\n",
    "\n",
    "df = pd.read_sql_query(sql, db_connection1)\n",
    "print(df.head())"
   ]
  },
  {
   "cell_type": "code",
   "execution_count": 10,
   "id": "d2be7930-8aca-49d4-92d1-d6f5be814c86",
   "metadata": {},
   "outputs": [
    {
     "name": "stdout",
     "output_type": "stream",
     "text": [
      "   CustomerID  PurchaseCount BuyerCategory\n",
      "0          64              3  Repeat Buyer\n",
      "1          94              2  Repeat Buyer\n",
      "2          34              1   First Buyer\n",
      "3          33              1   First Buyer\n",
      "4          91              1   First Buyer\n"
     ]
    },
    {
     "name": "stderr",
     "output_type": "stream",
     "text": [
      "C:\\Users\\I02062\\AppData\\Local\\Temp\\ipykernel_368076\\4216699280.py:40: UserWarning: pandas only supports SQLAlchemy connectable (engine/connection) or database string URI or sqlite3 DBAPI2 connection. Other DBAPI2 objects are not tested. Please consider using SQLAlchemy.\n",
      "  df = pd.read_sql_query(sql, db_connection1)\n"
     ]
    }
   ],
   "source": [
    "#5.\tMarketing Effectiveness (SQL):\n",
    "\n",
    "# Compare repeat vs. first-time buyers.\n",
    "import pandas as pd\n",
    "import pymysql\n",
    "import mysql.connector as db\n",
    "from datetime import datetime\n",
    "from sqlalchemy import create_engine\n",
    "\n",
    "user  = 'root'\n",
    "passcode = \"password12*\"\n",
    "host = 'localhost'\n",
    "db_name = \"shopeasy\"\n",
    "\n",
    "db_connection1 = db.connect(\n",
    "                host  = host,\n",
    "                user = user,\n",
    "                password = passcode,\n",
    "                database = db_name\n",
    ")\n",
    "\n",
    "db_connection1\n",
    "curr = db_connection1.cursor()\n",
    "\n",
    "sql = \"\"\"\n",
    "              SELECT \n",
    "                    CustomerID, \n",
    "                    COUNT(*) AS PurchaseCount,\n",
    "                    CASE \n",
    "                        WHEN COUNT(*) = 1 THEN 'First Buyer' \n",
    "                        ELSE 'Repeat Buyer' \n",
    "                    END AS BuyerCategory\n",
    "                        FROM shopeasy.customer_journey GROUP BY CustomerID;\n",
    "\n",
    "       \"\"\"\n",
    "\n",
    "curr.execute(sql)\n",
    "results1 = curr.fetchall()\n",
    "\n",
    "df = pd.read_sql_query(sql, db_connection1)\n",
    "print(df.head())"
   ]
  },
  {
   "cell_type": "code",
   "execution_count": 11,
   "id": "00aab476-50e7-4d1b-989f-6dfb10c4718e",
   "metadata": {},
   "outputs": [
    {
     "name": "stdout",
     "output_type": "stream",
     "text": [
      "   RetentionRate\n",
      "0       20.68966\n"
     ]
    },
    {
     "name": "stderr",
     "output_type": "stream",
     "text": [
      "C:\\Users\\I02062\\AppData\\Local\\Temp\\ipykernel_368076\\1463742131.py:51: UserWarning: pandas only supports SQLAlchemy connectable (engine/connection) or database string URI or sqlite3 DBAPI2 connection. Other DBAPI2 objects are not tested. Please consider using SQLAlchemy.\n",
      "  df = pd.read_sql_query(sql, db_connection1)\n"
     ]
    }
   ],
   "source": [
    "#5.\tMarketing Effectiveness (SQL):\n",
    "# Calculate customer retention rate.\n",
    "\n",
    "import pandas as pd\n",
    "import pymysql\n",
    "import mysql.connector as db\n",
    "from datetime import datetime\n",
    "from sqlalchemy import create_engine\n",
    "\n",
    "user  = 'root'\n",
    "passcode = \"password12*\"\n",
    "host = 'localhost'\n",
    "db_name = \"shopeasy\"\n",
    "\n",
    "db_connection1 = db.connect(\n",
    "                host  = host,\n",
    "                user = user,\n",
    "                password = passcode,\n",
    "                database = db_name\n",
    ")\n",
    "\n",
    "db_connection1\n",
    "curr = db_connection1.cursor()\n",
    "\n",
    "sql = \"\"\"\n",
    "            WITH InitialCustomers AS (\n",
    "                                        SELECT DISTINCT CustomerID \n",
    "                                        FROM shopeasy.customer_journey \n",
    "                                        WHERE VisitDate BETWEEN '2023-01-01' AND '2023-12-31'\n",
    "), \n",
    "            FinalCustomers AS (\n",
    "                                        SELECT DISTINCT CustomerID \n",
    "                                        FROM shopeasy.customer_journey \n",
    "                                        WHERE VisitDate BETWEEN '2025-01-01' AND '2025-12-31'\n",
    "),\n",
    "            NewCustomers AS (\n",
    "                                        SELECT DISTINCT CustomerID \n",
    "                                        FROM FinalCustomers \n",
    "                                        WHERE CustomerID NOT IN (SELECT CustomerID FROM InitialCustomers)\n",
    ")\n",
    "\n",
    "                        SELECT \n",
    "                                    (COUNT(*) - (SELECT COUNT(*) FROM NewCustomers)) * 100.0 / (SELECT COUNT(*) FROM InitialCustomers) AS RetentionRate\n",
    "                                    FROM FinalCustomers;\n",
    "\n",
    "       \"\"\"\n",
    "\n",
    "curr.execute(sql)\n",
    "results1 = curr.fetchall()\n",
    "\n",
    "df = pd.read_sql_query(sql, db_connection1)\n",
    "print(df.head())"
   ]
  },
  {
   "cell_type": "code",
   "execution_count": null,
   "id": "969fc9c0-5123-4509-9467-eddb5aeeb6c1",
   "metadata": {},
   "outputs": [],
   "source": []
  }
 ],
 "metadata": {
  "kernelspec": {
   "display_name": "Python 3 (ipykernel)",
   "language": "python",
   "name": "python3"
  },
  "language_info": {
   "codemirror_mode": {
    "name": "ipython",
    "version": 3
   },
   "file_extension": ".py",
   "mimetype": "text/x-python",
   "name": "python",
   "nbconvert_exporter": "python",
   "pygments_lexer": "ipython3",
   "version": "3.12.7"
  }
 },
 "nbformat": 4,
 "nbformat_minor": 5
}
